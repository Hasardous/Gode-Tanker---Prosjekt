TODO Video av forsøket
TODO MatematiskeModeller.md (I notebooken)
TODO Vurdering av resultater fra Simulering og forsøk
TODO Lenke til programkoden (animasjon.py og tankmodell.py)
