{
 "cells": [
  {
   "cell_type": "markdown",
   "metadata": {},
   "source": [
    "# Gode tanker\n",
    "*Av Hans Jacob, Olav, Fredrik og Fredrik*"
   ]
  },
  {
   "cell_type": "markdown",
   "metadata": {},
   "source": [
    "Vi har fått i oppgave å sammenligne en datamodell og resultatene av et forsøk. Datamodellen skal forutse vannivået i to vanntanker, hvor den første vanntanken drenerer over i den andre. Den første tanken får en konstant vannstrøm inn, og den andre tanken har en varierende strøm ut. Forsøket innebærer å etterligne datamodellen med to vannbøtter som har et hull borret i sidene. Bøttene skal fylles med en vannslange festet til en vannkran."
   ]
  },
  {
   "cell_type": "markdown",
   "metadata": {},
   "source": [
    "## Intro til Matematiske Modeller\n",
    "Matematisk modellering handler om å lage modeller, som simulerer virkeligheten ved hjelp av matematikk. I praksis vil dette si at vi kan forstå omgivelsene rundt oss eller etterligne reelle scenarioer ved å bruke likninger. Dette er en teknikk som er mye utbredt i dag, spesielt innenfor realfag som fysikk, kjemi og biologi. Matematisk modellering handler om å finne ut en funksjon eller formel som best representerer virkeligheten. En slik funksjon vil ta inn fysiske beregninger eller målinger og sende ut et resultat. Dette resultatet kan da sammenlignes med tidligere målinger. En bra modell vil da ha kommet fram til de faktiske verdiene. Dermed kan man komme fram til verdier i hypotetiske eller fremtidelige scenarioer.\n",
    "\n",
    "Her er et eksempel på en modell for en eksponentiell vekstrate:\n",
    "![Populasjonsvekst](Formler/populasjonsvekst.PNG)\n",
    "\n",
    "Her er et mer spesifikt eksempel (Newtons Avkjølingslov)\n",
    "![Law of Cooling](Formler/lawofcooling2.PNG)"
   ]
  },
  {
   "cell_type": "markdown",
   "metadata": {},
   "source": [
    "## Fremgangsmåte\n",
    "Sett inn fremgangsmåte\n",
    "\n",
    "\n",
    "![Skev kode](Formler/IMG_20180418_125331.jpg)\n",
    "![Redigerte kode](Formler/IMG_20180418_132544.jpg)\n",
    "![MÃ¥ler vannivÃ¥](Formler/IMG_20180418_133356.jpg)\n",
    "![MÃ¥ler vannivÃ¥](Formler/IMG_20180418_133736.jpg)\n",
    "![MÃ¥ler digitalt](Formler/IMG_20180425_132423.jpg)\n",
    "![Digital mÃ¥ler](Formler/IMG_20180502_130301.jpg)\n",
    "![Manuell inntastning](Formler/IMG_20180502_134144.jpg)"
   ]
  },
  {
   "cell_type": "markdown",
   "metadata": {},
   "source": [
    "## Video av Forsøket\n",
    "Her er en video av det siste forsøket som ble gjort:\n",
    "[Video av forsøk](https://drive.google.com/open?id=1jeWUS-gadqclRIw9K4WKhRFlfn-3L6gk)"
   ]
  },
  {
   "cell_type": "markdown",
   "metadata": {},
   "source": [
    "## Vurdering av Resultater\n",
    "Sett inn vurdering av resultatene  \n",
    "Sammenlign virkeligheten med simuleringen"
   ]
  },
  {
   "cell_type": "markdown",
   "metadata": {},
   "source": [
    "## Link til Kode\n",
    "[Animasjonskode](https://github.com/Hasardous/Gode-Tanker-Prosjekt/blob/master/animasjon.py)  \n",
    "[Tankmodellkode](https://github.com/Hasardous/Gode-Tanker-Prosjekt/blob/master/tankmodell.py)"
   ]
  },
  {
   "cell_type": "code",
   "execution_count": null,
   "metadata": {
    "collapsed": true
   },
   "outputs": [],
   "source": []
  }
 ],
 "metadata": {
  "kernelspec": {
   "display_name": "Python 3",
   "language": "python",
   "name": "python3"
  },
  "language_info": {
   "codemirror_mode": {
    "name": "ipython",
    "version": 3
   },
   "file_extension": ".py",
   "mimetype": "text/x-python",
   "name": "python",
   "nbconvert_exporter": "python",
   "pygments_lexer": "ipython3",
   "version": "3.6.2"
  }
 },
 "nbformat": 4,
 "nbformat_minor": 2
}
