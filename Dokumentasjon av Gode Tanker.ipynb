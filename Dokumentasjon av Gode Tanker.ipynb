{
 "cells": [
  {
   "cell_type": "markdown",
   "metadata": {},
   "source": [
    "# Gode tanker\n",
    "*Av Hans Jacob, Olav, Fredrik og Fredrik*"
   ]
  },
  {
   "cell_type": "markdown",
   "metadata": {},
   "source": [
    "Vi har fÃ¥tt i oppgave Ã¥ sammenligne en datamodell og resultatene av et forsÃ¸k. Datamodellen skal forutse vannivÃ¥et i to vanntanker, hvor den fÃ¸rste vanntanken drenerer over i den andre. Den fÃ¸rste tanken fÃ¥r en konstant vannstrÃ¸m inn, og den andre tanken har en varierende strÃ¸m ut. ForsÃ¸ket innebÃ¦rer Ã¥ etterligne datamodellen med to vannbÃ¸tter som har et hull borret i sidene. BÃ¸ttene skal fylles med en vannslange festet til en vannkran."
   ]
  },
  {
   "cell_type": "markdown",
   "metadata": {},
   "source": [
    "## Intro til Matematiske Modeller\n",
    "Matematisk modellering handler om Ã¥ lage modeller, som simulerer virkeligheten ved hjelp av matematikk. I praksis vil dette si at vi kan forstÃ¥ omgivelsene rundt oss eller etterligne reelle scenarioer ved Ã¥ bruke likninger. Dette er en teknikk som er mye utbredt i dag, spesielt innenfor realfag som fysikk, kjemi og biologi. Matematisk modellering handler om Ã¥ finne ut en funksjon eller formel som best representerer virkeligheten. En slik funksjon vil ta inn fysiske beregninger eller mÃ¥linger og sende ut et resultat. Dette resultatet kan da sammenlignes med tidligere mÃ¥linger. En bra modell vil da ha kommet fram til de faktiske verdiene. Dermed kan man komme fram til verdier i hypotetiske eller fremtidelige scenarioer.\n",
    "\n",
    "Her er et eksempel pÃ¥ en modell for en eksponentiell vekstrate:\n",
    "![Populasjonsvekst](https://github.com/Hasardous/Gode-Tanker-Prosjekt/blob/master/Formler/populasjonsvekst.PNG)\n",
    "\n",
    "Her er et mer spesifikt eksempel (Newtons AvkjÃ¸lingslov)\n",
    "![Law of Cooling](https://github.com/Hasardous/Gode-Tanker-Prosjekt/blob/master/Formler/lawofcooling2.PNG)"
   ]
  },
  {
   "cell_type": "markdown",
   "metadata": {},
   "source": [
    "## FremgangsmÃ¥te\n",
    "Sett inn fremgangsmÃ¥te\n",
    "\n",
    "\n",
    "![Skev kode](https://github.com/Hasardous/Gode-Tanker-Prosjekt/blob/master/Formler/IMG_20180418_125331.jpg)\n",
    "![Redigerte kode](https://github.com/Hasardous/Gode-Tanker-Prosjekt/blob/master/Formler/IMG_20180418_132544.jpg)\n",
    "![MÃ¥ler vannivÃ¥](https://github.com/Hasardous/Gode-Tanker-Prosjekt/blob/master/Formler/IMG_20180418_133356.jpg)\n",
    "![MÃ¥ler vannivÃ¥](https://github.com/Hasardous/Gode-Tanker-Prosjekt/blob/master/Formler/IMG_20180418_133736.jpg)\n",
    "![MÃ¥ler digitalt](https://github.com/Hasardous/Gode-Tanker-Prosjekt/blob/master/Formler/IMG_20180425_132423.jpg)\n",
    "![Digital mÃ¥ler](https://github.com/Hasardous/Gode-Tanker-Prosjekt/blob/master/Formler/IMG_20180502_130301.jpg)\n",
    "![Manuell inntastning](https://github.com/Hasardous/Gode-Tanker-Prosjekt/blob/master/Formler/IMG_20180502_134144.jpg)"
   ]
  },
  {
   "cell_type": "markdown",
   "metadata": {},
   "source": [
    "## Video av ForsÃ¸ket\n",
    "Her er en video av det siste forsÃ¸ket som ble gjort:\n",
    "[Video av forsÃ¸k](https://drive.google.com/open?id=1jeWUS-gadqclRIw9K4WKhRFlfn-3L6gk)"
   ]
  },
  {
   "cell_type": "markdown",
   "metadata": {},
   "source": [
    "## Vurdering av Resultater\n",
    "Sett inn vurdering av resultatene\n",
    "Sammenlign virkeligheten med simuleringen"
   ]
  },
  {
   "cell_type": "markdown",
   "metadata": {},
   "source": [
    "## Link til Kode\n",
    "[Animasjonskode](https://github.com/Hasardous/Gode-Tanker-Prosjekt/blob/master/animasjon.py)  \n",
    "[Tankmodellkode](https://github.com/Hasardous/Gode-Tanker-Prosjekt/blob/master/tankmodell.py)"
   ]
  },
  {
   "cell_type": "code",
   "execution_count": null,
   "metadata": {
    "collapsed": true
   },
   "outputs": [],
   "source": []
  }
 ],
 "metadata": {
  "kernelspec": {
   "display_name": "Python 3",
   "language": "python",
   "name": "python3"
  },
  "language_info": {
   "codemirror_mode": {
    "name": "ipython",
    "version": 3
   },
   "file_extension": ".py",
   "mimetype": "text/x-python",
   "name": "python",
   "nbconvert_exporter": "python",
   "pygments_lexer": "ipython3",
   "version": "3.6.0"
  }
 },
 "nbformat": 4,
 "nbformat_minor": 2
}

