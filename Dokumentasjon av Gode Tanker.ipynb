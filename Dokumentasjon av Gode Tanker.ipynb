{
 "cells": [
  {
   "cell_type": "markdown",
   "metadata": {},
   "source": [
    "# Gode tanker\n",
    "*Av Hans Jacob, Olav, Fredrik og Fredrik*  \n",
    "*02.05.18*"
   ]
  },
  {
   "cell_type": "markdown",
   "metadata": {},
   "source": [
    "Vi har fått i oppgave å sammenligne en datamodell og resultatene av et forsøk. Datamodellen skal forutse vannivået i to vanntanker, hvor den første vanntanken drenerer over i den andre. Den første tanken får en konstant vannstrøm inn, og den andre tanken har en varierende strøm ut. Forsøket innebærer å etterligne datamodellen med to vannbøtter som har et hull borret i sidene. Bøttene skal fylles med en vannslange festet til en vannkran."
   ]
  },
  {
   "cell_type": "markdown",
   "metadata": {},
   "source": [
    "## Intro til Matematiske Modeller\n",
    "Matematisk modellering handler om å lage modeller, som simulerer virkeligheten ved hjelp av matematikk. I praksis vil dette si at vi kan forstå omgivelsene rundt oss eller etterligne reelle scenarioer ved å bruke likninger. Dette er en teknikk som er mye utbredt i dag, spesielt innenfor realfag som fysikk, kjemi og biologi. Matematisk modellering handler om å finne ut en funksjon eller formel som best representerer virkeligheten. En slik funksjon vil ta inn fysiske beregninger eller målinger og sende ut et resultat. Dette resultatet kan da sammenlignes med tidligere målinger. En bra modell vil da ha kommet fram til de faktiske verdiene. Dermed kan man komme fram til verdier i hypotetiske eller fremtidelige scenarioer.\n",
    "\n",
    "Her er et eksempel på en modell for en eksponentiell vekstrate:\n",
    "![Populasjonsvekst](Bilder/populasjonsvekst.PNG)\n",
    "\n",
    "Her er et mer spesifikt eksempel (Newtons Avkjølingslov)\n",
    "![Law of Cooling](Bilder/lawofcooling2.PNG)"
   ]
  },
  {
   "cell_type": "markdown",
   "metadata": {},
   "source": [
    "## Fremgangsmåte\n",
    "\n",
    "**Forberedelser:**\n",
    "  I forkant av selve byggingen av systemet ble det laget et pythonprogram som simulerte forsøket. Det ble også utarbeidet en visualisering \n",
    "  av forsøket i form av en animasjon som også ble kodet i python.  \n",
    "![Skev kode](Bilder/IMG_20180418_125331.jpg)\n",
    "  \n",
    "**Borring:**\n",
    "  Det ble boret hull i bøttene. Det ble valgt et bor med diameter på 10 mm, og dette ble brukt på begge. \n",
    "  For å kontrollere at oppgitt verdi på boret stemte, brukte vi et skyvelære. Dette for å få riktig verdi i modellen. \n",
    "  Det ble også satt en teipbit på hver av bøttene for å forhindre mulig sprekkdannelse ved borringen. \n",
    "\n",
    "**Vannhastighet:**\n",
    "  Hastigheten på vannet var essensielt for at modellen og forsøket skulle stemme overens. Derfor måtte denne finnes, \n",
    "  for så å bruke verdien i modellen. Den samme vannstrålen ble så senere brukt som innstrøm i den første bøtta. \n",
    "  Denne måtte være uendret slik at vannhastigheten var lik. Denne ble funnet ved at det ble tatt tiden på hvor fort 1 liter ble fylt.  \n",
    "![MÃ¥ler vannivÃ¥](Bilder/IMG_20180418_133356.jpg)\n",
    "\n",
    "**Oppsett:**\n",
    "  Den ene bøtta ble plassert over den andre slik at utstrømmen av denne skulle bli innstrøm i den andre bøtta. Bøttene ble så fylt opp til\n",
    "  startverdiene som var 15 cm i toppbøtta og 10 cm i bunnbøtta. Hullene ble blokkert frem til forsøket skulle starte.  \n",
    "![MÃ¥ler vannivÃ¥](Bilder/IMG_20180418_133736.jpg)\n",
    "  \n",
    "**Gjennomføring av forsøk:**\n",
    "  Stoppeklokken ble startet i det vannet begynte å renne ut av hullene i bøttene. Det ble målt høyde på vannet i begge bøttene manuelt. \n",
    "  Målingene ble utført ved at det ble plassert to målestokker i begge bøttene. Vannivået ble så avlest hvert tiende sekund. Dette ble\n",
    "  gjenntatt i 11 minutter og 40 sekunder (700 sekunder). Da hadde vannivåene i begge bøttene stabilisert seg.  \n",
    "![MÃ¥ler digitalt](Bilder/IMG_20180425_132423.jpg)\n",
    "![Manuell inntastning](Bilder/IMG_20180502_134144.jpg)\n",
    "  \n",
    "**Opprydding:**\n",
    "  Etter endt forsøk ble vannet i bøttene hellt ut, og utstyret ble samlet sammen, tørket av og lagt på plass. Vannet som ble griset \n",
    "  underveis ble tørket opp\n"
   ]
  },
  {
   "cell_type": "markdown",
   "metadata": {},
   "source": [
    "## Video av Forsøket\n",
    "Her er en video av det siste forsøket som ble gjort:\n",
    "[Video av forsøk](https://drive.google.com/open?id=1jeWUS-gadqclRIw9K4WKhRFlfn-3L6gk)"
   ]
  },
  {
   "cell_type": "markdown",
   "metadata": {},
   "source": [
    "## Vurdering av Resultater\n",
    "**Resultat:**  \n",
    "Det ble utført to forsøk. På det første forsøket var det fortsatt gaffateip rundt hullene i bøttene, og resultatet var at forsøket ikke \n",
    "stemte overens med datamodellen. Vannstrømmen ut ble mye mindre enn datamodellen forutså, slik at bøttene fylte seg. På det andre forsøket fulgte resultatene dataene fra modellen ganske presist. \n",
    "\n",
    "Flere forsøk ble gjort før de to over, med digitalt måleutstyr. Det digitale måleutstyret viste seg å fungere dårlig, og derfor ble det\n",
    "brukt manuell måling istedenfor.\n",
    "\n",
    "**Feilkilder:**\n",
    "- På det første forsøket var det gaffateip rundt hullene i bøttene, og det førte til at vannstrømmen ut av bøttene ikke stemte med \n",
    "  datamodellen. Dette ble korigert i det andre forsøket.\n",
    "- Med manuell måling er det større rom for feilmåling, og kan regnes som en feilkilde.\n",
    "- Dårlig kommunikasjon kan ha ført til unøyaktige målinger.\n",
    "- Vannhastighet kan ha variert i løpet av forsøkene.\n",
    "\n",
    "![Bilde av resultater](Bilder/Resultat - Gode Tanker.PNG)\n"
   ]
  },
  {
   "cell_type": "markdown",
   "metadata": {},
   "source": [
    "## Link til Kode\n",
    "[Animasjonskode](https://github.com/Hasardous/Gode-Tanker-Prosjekt/blob/master/animasjon.py)  \n",
    "[Tankmodellkode](https://github.com/Hasardous/Gode-Tanker-Prosjekt/blob/master/tankmodell.py)  \n",
    "[Tankmodell (Uten Animasjon)](https://github.com/Hasardous/Gode-Tanker-Prosjekt/blob/master/tankmodell_animasjonsfri.py)"
   ]
  },
  {
   "cell_type": "code",
   "execution_count": null,
   "metadata": {
    "collapsed": true
   },
   "outputs": [],
   "source": []
  }
 ],
 "metadata": {
  "kernelspec": {
   "display_name": "Python 3",
   "language": "python",
   "name": "python3"
  },
  "language_info": {
   "codemirror_mode": {
    "name": "ipython",
    "version": 3
   },
   "file_extension": ".py",
   "mimetype": "text/x-python",
   "name": "python",
   "nbconvert_exporter": "python",
   "pygments_lexer": "ipython3",
   "version": "3.6.2"
  }
 },
 "nbformat": 4,
 "nbformat_minor": 2
}
