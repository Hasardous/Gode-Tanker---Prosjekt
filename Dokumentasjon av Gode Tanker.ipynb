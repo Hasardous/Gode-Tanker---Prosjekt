{
 "cells": [
  {
   "cell_type": "markdown",
   "metadata": {},
   "source": [
    "# Intro til Matematiske Modeller\n",
    "[Introduksjon](https://github.com/Hasardous/Gode-Tanker-Prosjekt/blob/master/MatematiskeModeller.md) (Flytt hit før innlevering)"
   ]
  },
  {
   "cell_type": "markdown",
   "metadata": {},
   "source": [
    "# Video av Forsøket\n",
    "Her setter vi inn filming av førsøket"
   ]
  },
  {
   "cell_type": "markdown",
   "metadata": {},
   "source": [
    "# Vurdering av Resultater\n",
    "Sett inn vurdering av resultatene\n",
    "Sammenlign virkeligheten med simuleringen"
   ]
  },
  {
   "cell_type": "markdown",
   "metadata": {},
   "source": [
    "# Link til Kode\n",
    "[Animasjonskode](https://github.com/Hasardous/Gode-Tanker-Prosjekt/blob/master/animasjon.py)\n",
    "[Tankmodellkode](https://github.com/Hasardous/Gode-Tanker-Prosjekt/blob/master/tankmodell.py)"
   ]
  },
  {
   "cell_type": "code",
   "execution_count": null,
   "metadata": {
    "collapsed": true
   },
   "outputs": [],
   "source": []
  }
 ],
 "metadata": {
  "kernelspec": {
   "display_name": "Python 3",
   "language": "python",
   "name": "python3"
  },
  "language_info": {
   "codemirror_mode": {
    "name": "ipython",
    "version": 3
   },
   "file_extension": ".py",
   "mimetype": "text/x-python",
   "name": "python",
   "nbconvert_exporter": "python",
   "pygments_lexer": "ipython3",
   "version": "3.6.0"
  }
 },
 "nbformat": 4,
 "nbformat_minor": 2
}
